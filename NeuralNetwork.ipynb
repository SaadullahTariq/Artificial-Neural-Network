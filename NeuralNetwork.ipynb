{
  "nbformat": 4,
  "nbformat_minor": 0,
  "metadata": {
    "colab": {
      "name": "Untitled0.ipynb",
      "provenance": [],
      "authorship_tag": "ABX9TyNz+0LkHYGBh8r75Ve16cfF",
      "include_colab_link": true
    },
    "kernelspec": {
      "name": "python3",
      "display_name": "Python 3"
    },
    "language_info": {
      "name": "python"
    }
  },
  "cells": [
    {
      "cell_type": "markdown",
      "metadata": {
        "id": "view-in-github",
        "colab_type": "text"
      },
      "source": [
        "<a href=\"https://colab.research.google.com/github/SaadullahTariq/Artificial-Neural-Network/blob/main/NeuralNetwork.ipynb\" target=\"_parent\"><img src=\"https://colab.research.google.com/assets/colab-badge.svg\" alt=\"Open In Colab\"/></a>"
      ]
    },
    {
      "cell_type": "code",
      "execution_count": 5,
      "metadata": {
        "colab": {
          "base_uri": "https://localhost:8080/"
        },
        "id": "aX2s4Hj8OvWS",
        "outputId": "2b1a18a3-9ce6-48d2-fbe5-812a53e9e8ee"
      },
      "outputs": [
        {
          "output_type": "stream",
          "name": "stdout",
          "text": [
            "(60000, 28, 28) (60000,)\n",
            "Model: \"sequential_2\"\n",
            "_________________________________________________________________\n",
            " Layer (type)                Output Shape              Param #   \n",
            "=================================================================\n",
            " flatten_2 (Flatten)         (None, 784)               0         \n",
            "                                                                 \n",
            " dense_4 (Dense)             (None, 128)               100480    \n",
            "                                                                 \n",
            " dense_5 (Dense)             (None, 10)                1290      \n",
            "                                                                 \n",
            "=================================================================\n",
            "Total params: 101,770\n",
            "Trainable params: 101,770\n",
            "Non-trainable params: 0\n",
            "_________________________________________________________________\n",
            "None\n",
            "Epoch 1/5\n"
          ]
        },
        {
          "output_type": "stream",
          "name": "stderr",
          "text": [
            "/usr/local/lib/python3.7/dist-packages/keras/optimizer_v2/adam.py:105: UserWarning: The `lr` argument is deprecated, use `learning_rate` instead.\n",
            "  super(Adam, self).__init__(name, **kwargs)\n"
          ]
        },
        {
          "output_type": "stream",
          "name": "stdout",
          "text": [
            "938/938 - 3s - loss: 0.3043 - accuracy: 0.9150 - 3s/epoch - 3ms/step\n",
            "Epoch 2/5\n",
            "938/938 - 2s - loss: 0.1369 - accuracy: 0.9600 - 2s/epoch - 2ms/step\n",
            "Epoch 3/5\n",
            "938/938 - 2s - loss: 0.0939 - accuracy: 0.9724 - 2s/epoch - 2ms/step\n",
            "Epoch 4/5\n",
            "938/938 - 2s - loss: 0.0728 - accuracy: 0.9781 - 2s/epoch - 3ms/step\n",
            "Epoch 5/5\n",
            "938/938 - 2s - loss: 0.0571 - accuracy: 0.9828 - 2s/epoch - 3ms/step\n",
            "157/157 - 0s - loss: 0.0813 - accuracy: 0.9743 - 393ms/epoch - 3ms/step\n",
            "tf.Tensor(\n",
            "[1.3581891e-06 3.3774319e-09 3.1372398e-05 1.9045795e-04 7.3179024e-10\n",
            " 3.2299361e-06 5.0362660e-13 9.9976641e-01 5.9212979e-08 7.1472737e-06], shape=(10,), dtype=float32)\n",
            "7\n",
            "tf.Tensor(\n",
            "[1.3581891e-06 3.3774319e-09 3.1372398e-05 1.9045795e-04 7.3179024e-10\n",
            " 3.2299361e-06 5.0362660e-13 9.9976641e-01 5.9212979e-08 7.1472737e-06], shape=(10,), dtype=float32)\n",
            "7\n",
            "tf.Tensor(\n",
            "[1.3581891e-06 3.3774383e-09 3.1372456e-05 1.9045851e-04 7.3179302e-10\n",
            " 3.2299454e-06 5.0362850e-13 9.9976641e-01 5.9213090e-08 7.1472873e-06], shape=(10,), dtype=float32)\n",
            "7\n",
            "(5, 10)\n",
            "[7 2 1 0 4]\n"
          ]
        }
      ],
      "source": [
        "# First Neural Net\n",
        "# Train, evaluate, and predict with the model\n",
        "import os\n",
        "os.environ['TF_CPP_MIN_LOG_LEVEL'] = '2'\n",
        "\n",
        "import tensorflow as tf\n",
        "from tensorflow import keras\n",
        "import numpy as np\n",
        "import matplotlib.pyplot as plt\n",
        "\n",
        "mnist = keras.datasets.mnist\n",
        "\n",
        "(x_train, y_train), (x_test, y_test) = mnist.load_data()\n",
        "print(x_train.shape, y_train.shape)\n",
        "\n",
        "# normalize: 0,255 -> 0,1\n",
        "x_train, x_test = x_train / 255.0, x_test / 255.0\n",
        "\n",
        "# model\n",
        "model = keras.models.Sequential([\n",
        "    keras.layers.Flatten(input_shape=(28,28)),\n",
        "    keras.layers.Dense(128, activation='relu'),\n",
        "    keras.layers.Dense(10),\n",
        "])\n",
        "\n",
        "print(model.summary())\n",
        "\n",
        "# another way to build the Sequential model:\n",
        "#model = keras.models.Sequential()\n",
        "#model.add(keras.layers.Flatten(input_shape=(28,28))\n",
        "#model.add(keras.layers.Dense(128, activation='relu'))\n",
        "#model.add(keras.layers.Dense(10))\n",
        "\n",
        "# loss and optimizer\n",
        "loss = keras.losses.SparseCategoricalCrossentropy(from_logits=True)\n",
        "optim = keras.optimizers.Adam(lr=0.001)\n",
        "metrics = [\"accuracy\"]\n",
        "\n",
        "model.compile(loss=loss, optimizer=optim, metrics=metrics)\n",
        "\n",
        "# training\n",
        "batch_size = 64\n",
        "epochs = 5\n",
        "\n",
        "model.fit(x_train, y_train, batch_size=batch_size, epochs=epochs, shuffle=True, verbose=2)\n",
        "\n",
        "# evaulate\n",
        "model.evaluate(x_test, y_test, batch_size=batch_size, verbose=2)\n",
        "\n",
        "# predictions\n",
        "\n",
        "# 1. option: build new model with Softmax layer\n",
        "probability_model = keras.models.Sequential([\n",
        "    model,\n",
        "    keras.layers.Softmax()\n",
        "])\n",
        "\n",
        "predictions = probability_model(x_test)\n",
        "pred0 = predictions[0]\n",
        "print(pred0)\n",
        "\n",
        "# use np.argmax to get label with highest probability\n",
        "label0 = np.argmax(pred0)\n",
        "print(label0)\n",
        "\n",
        "# 2. option: original model + nn.softmax, call model(x)\n",
        "predictions = model(x_test)\n",
        "predictions = tf.nn.softmax(predictions)\n",
        "pred0 = predictions[0]\n",
        "print(pred0)\n",
        "label0 = np.argmax(pred0)\n",
        "print(label0)\n",
        "\n",
        "# 3. option: original model + nn.softmax, call model.predict(x)\n",
        "predictions = model.predict(x_test, batch_size=batch_size)\n",
        "predictions = tf.nn.softmax(predictions)\n",
        "pred0 = predictions[0]\n",
        "print(pred0)\n",
        "label0 = np.argmax(pred0)\n",
        "print(label0)\n",
        "\n",
        "# call argmax for multiple labels\n",
        "pred05s = predictions[0:5]\n",
        "print(pred05s.shape)\n",
        "label05s = np.argmax(pred05s, axis=1)\n",
        "print(label05s)\n",
        "\n"
      ]
    }
  ]
}